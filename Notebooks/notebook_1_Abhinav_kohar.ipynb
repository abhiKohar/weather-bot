{
 "cells": [
  {
   "cell_type": "markdown",
   "metadata": {},
   "source": [
    "# Notebook that can take lat long inputs and generate weather report/forecast with charts for the location"
   ]
  },
  {
   "cell_type": "code",
   "execution_count": 36,
   "metadata": {},
   "outputs": [
    {
     "data": {
      "text/plain": [
       "True"
      ]
     },
     "execution_count": 36,
     "metadata": {},
     "output_type": "execute_result"
    }
   ],
   "source": [
    "import os\n",
    "import json\n",
    "import datetime\n",
    "import requests\n",
    "import pprint as pp\n",
    "import plotly.express as px\n",
    "import matplotlib.pyplot as plt\n",
    "\n",
    "from dotenv import load_dotenv\n",
    "load_dotenv()\n"
   ]
  },
  {
   "cell_type": "code",
   "execution_count": 37,
   "metadata": {},
   "outputs": [],
   "source": [
    "# !pip install python-dotenv"
   ]
  },
  {
   "cell_type": "code",
   "execution_count": 38,
   "metadata": {},
   "outputs": [],
   "source": [
    "\n",
    "class WeatherClient:\n",
    "    OPEN_WEATHER_MAP_API = os.environ.get('OPEN_WEATHER_MAP_API')\n",
    "    DEFAULT_ZIP_CODE = '77056'\n",
    "    DEFAULT_LAT = 29.76\n",
    "    DEFAULT_LONG = 95.36\n",
    "\n",
    "    @classmethod\n",
    "    def get_seven_day_forecast(cls, lat_long=None):\n",
    "        if not lat_long:\n",
    "            lat_long = (cls.DEFAULT_LAT,cls.DEFAULT_LONG)\n",
    "\n",
    "        try:\n",
    "            # https://pro.openweathermap.org/data/2.5/forecast/hourly?lat={lat}&lon={lon}&appid={API key}\n",
    "\n",
    "            URL = f'https://api.openweathermap.org/data/2.5/onecall?units=imperial&lat={lat_long[0]}&lon={lat_long[1]}&exclude=[current,minutely,hourly,alerts]&appid={cls.OPEN_WEATHER_MAP_API}'\n",
    "            # print(URL)\n",
    "            r = requests.get(URL)\n",
    "\n",
    "            # pp.pprint(r.json())\n",
    "            \n",
    "            return r.json()\n",
    "        except requests.exceptions.RequestException as e:\n",
    "            print('Unable to get 4 day forecast')\n",
    "            print(str(e))\n",
    "            raise e\n",
    "\n",
    "    @classmethod\n",
    "    def get_seven_forecast_formatted(cls, lat_long=None) -> str:\n",
    "        if not lat_long:\n",
    "            lat_long = (cls.DEFAULT_LAT,cls.DEFAULT_LONG)\n",
    "\n",
    "        forecasts = cls.get_seven_day_forecast(lat_long)\n",
    "        lat_long = str(forecasts['lat'])+\"_\"+str(forecasts['lon'])\n",
    "        formatted_forecasts = []\n",
    "\n",
    "        # track 12 hour forecast each day\n",
    "        for i in range(0, len(forecasts['daily'])):\n",
    "            forecast = forecasts['daily'][i]\n",
    "            # print(forecast)\n",
    "\n",
    "            try:\n",
    "                forecast_datetime = datetime.datetime.fromtimestamp(forecast['dt'])\n",
    "                # forecast['dt_formatted'] = f'{forecast_datetime:%a, %b %d %-I:%M %p}'\n",
    "                forecast['dt_formatted'] = f'{forecast_datetime:%d-%m-%Y}'\n",
    "                \n",
    "                forecast['weather_description'] = forecast['weather'][0]['description']\n",
    "                forecast['weather_icon'] = cls.get_icon_url(forecast['weather'][0]['icon'])\n",
    "\n",
    "                del forecast['dt']\n",
    "                del forecast['feels_like']\n",
    "                del forecast['weather']\n",
    "                # del forecast['temp']\n",
    "\n",
    "                formatted_forecasts.append(forecast)\n",
    "            except KeyError as e:\n",
    "                print(str(e))\n",
    "                print('Unable to parse keys, skipping forecast')\n",
    "            except Exception as e:\n",
    "                print(str(e))\n",
    "                print('Unable to format, skipping forecast')\n",
    "        #pp.pprint(json.dumps({'lat_long': lat_long, 'forecasts': formatted_forecasts}))\n",
    "        return json.dumps({'lat_long': lat_long, 'forecasts': formatted_forecasts})\n",
    "\n",
    "    @classmethod\n",
    "    def get_icon_url(cls, icon):\n",
    "        return f'https://openweathermap.org/img/wn/{icon}@2x.png'"
   ]
  },
  {
   "cell_type": "code",
   "execution_count": 39,
   "metadata": {
    "scrolled": false
   },
   "outputs": [
    {
     "name": "stdout",
     "output_type": "stream",
     "text": [
      "[{'clouds': 100,\n",
      "  'dew_point': 28.36,\n",
      "  'dt_formatted': '10-04-2022',\n",
      "  'humidity': 55,\n",
      "  'moon_phase': 0.28,\n",
      "  'moonrise': 1649569320,\n",
      "  'moonset': 1649532240,\n",
      "  'pop': 0.98,\n",
      "  'pressure': 1014,\n",
      "  'rain': 5.22,\n",
      "  'sunrise': 1649546270,\n",
      "  'sunset': 1649592101,\n",
      "  'temp': {'day': 42.93,\n",
      "           'eve': 37.83,\n",
      "           'max': 43.25,\n",
      "           'min': 29.25,\n",
      "           'morn': 29.39,\n",
      "           'night': 32.76},\n",
      "  'uvi': 10.35,\n",
      "  'weather_description': 'moderate rain',\n",
      "  'weather_icon': 'https://openweathermap.org/img/wn/10d@2x.png',\n",
      "  'wind_deg': 172,\n",
      "  'wind_gust': 8.9,\n",
      "  'wind_speed': 7.34},\n",
      " {'clouds': 100,\n",
      "  'dew_point': 35.83,\n",
      "  'dt_formatted': '11-04-2022',\n",
      "  'humidity': 76,\n",
      "  'moon_phase': 0.31,\n",
      "  'moonrise': 1649659140,\n",
      "  'moonset': 1649621160,\n",
      "  'pop': 1,\n",
      "  'pressure': 1016,\n",
      "  'rain': 3.17,\n",
      "  'snow': 4.64,\n",
      "  'sunrise': 1649632602,\n",
      "  'sunset': 1649678537,\n",
      "  'temp': {'day': 36.9,\n",
      "           'eve': 39.31,\n",
      "           'max': 43.61,\n",
      "           'min': 28.62,\n",
      "           'morn': 30.15,\n",
      "           'night': 28.62},\n",
      "  'uvi': 10.02,\n",
      "  'weather_description': 'rain and snow',\n",
      "  'weather_icon': 'https://openweathermap.org/img/wn/13d@2x.png',\n",
      "  'wind_deg': 153,\n",
      "  'wind_gust': 5.93,\n",
      "  'wind_speed': 4.32},\n",
      " {'clouds': 0,\n",
      "  'dew_point': 29.66,\n",
      "  'dt_formatted': '12-04-2022',\n",
      "  'humidity': 39,\n",
      "  'moon_phase': 0.34,\n",
      "  'moonrise': 1649749080,\n",
      "  'moonset': 1649709840,\n",
      "  'pop': 0.56,\n",
      "  'pressure': 1011,\n",
      "  'rain': 1.01,\n",
      "  'snow': 0.3,\n",
      "  'sunrise': 1649718934,\n",
      "  'sunset': 1649764973,\n",
      "  'temp': {'day': 48.6,\n",
      "           'eve': 40.75,\n",
      "           'max': 50.45,\n",
      "           'min': 23.47,\n",
      "           'morn': 23.47,\n",
      "           'night': 31.53},\n",
      "  'uvi': 12.06,\n",
      "  'weather_description': 'rain and snow',\n",
      "  'weather_icon': 'https://openweathermap.org/img/wn/13d@2x.png',\n",
      "  'wind_deg': 153,\n",
      "  'wind_gust': 7.07,\n",
      "  'wind_speed': 6.15},\n",
      " {'clouds': 71,\n",
      "  'dew_point': 34.07,\n",
      "  'dt_formatted': '13-04-2022',\n",
      "  'humidity': 50,\n",
      "  'moon_phase': 0.37,\n",
      "  'moonrise': 1649839020,\n",
      "  'moonset': 1649798340,\n",
      "  'pop': 0.98,\n",
      "  'pressure': 1010,\n",
      "  'rain': 3.39,\n",
      "  'sunrise': 1649805267,\n",
      "  'sunset': 1649851409,\n",
      "  'temp': {'day': 46.74,\n",
      "           'eve': 35.92,\n",
      "           'max': 46.74,\n",
      "           'min': 32.07,\n",
      "           'morn': 33.06,\n",
      "           'night': 33.58},\n",
      "  'uvi': 10.63,\n",
      "  'weather_description': 'light rain',\n",
      "  'weather_icon': 'https://openweathermap.org/img/wn/10d@2x.png',\n",
      "  'wind_deg': 180,\n",
      "  'wind_gust': 9.19,\n",
      "  'wind_speed': 8.7},\n",
      " {'clouds': 99,\n",
      "  'dew_point': 38.48,\n",
      "  'dt_formatted': '14-04-2022',\n",
      "  'humidity': 73,\n",
      "  'moon_phase': 0.41,\n",
      "  'moonrise': 1649929080,\n",
      "  'moonset': 1649886720,\n",
      "  'pop': 1,\n",
      "  'pressure': 1008,\n",
      "  'rain': 10.32,\n",
      "  'sunrise': 1649891601,\n",
      "  'sunset': 1649937845,\n",
      "  'temp': {'day': 40.77,\n",
      "           'eve': 33.93,\n",
      "           'max': 40.77,\n",
      "           'min': 32.09,\n",
      "           'morn': 32.58,\n",
      "           'night': 33.8},\n",
      "  'uvi': 7.85,\n",
      "  'weather_description': 'moderate rain',\n",
      "  'weather_icon': 'https://openweathermap.org/img/wn/10d@2x.png',\n",
      "  'wind_deg': 189,\n",
      "  'wind_gust': 4.41,\n",
      "  'wind_speed': 3.83},\n",
      " {'clouds': 100,\n",
      "  'dew_point': 37.33,\n",
      "  'dt_formatted': '15-04-2022',\n",
      "  'humidity': 92,\n",
      "  'moon_phase': 0.44,\n",
      "  'moonrise': 1650019140,\n",
      "  'moonset': 1649974980,\n",
      "  'pop': 1,\n",
      "  'pressure': 1010,\n",
      "  'rain': 12.65,\n",
      "  'snow': 10.39,\n",
      "  'sunrise': 1649977934,\n",
      "  'sunset': 1650024282,\n",
      "  'temp': {'day': 33.1,\n",
      "           'eve': 31.1,\n",
      "           'max': 34.95,\n",
      "           'min': 29.98,\n",
      "           'morn': 31.37,\n",
      "           'night': 29.98},\n",
      "  'uvi': 8,\n",
      "  'weather_description': 'rain and snow',\n",
      "  'weather_icon': 'https://openweathermap.org/img/wn/13d@2x.png',\n",
      "  'wind_deg': 165,\n",
      "  'wind_gust': 4.74,\n",
      "  'wind_speed': 4.74},\n",
      " {'clouds': 100,\n",
      "  'dew_point': 32.94,\n",
      "  'dt_formatted': '16-04-2022',\n",
      "  'humidity': 99,\n",
      "  'moon_phase': 0.48,\n",
      "  'moonrise': 1650109380,\n",
      "  'moonset': 1650063300,\n",
      "  'pop': 1,\n",
      "  'pressure': 1012,\n",
      "  'snow': 35.92,\n",
      "  'sunrise': 1650064269,\n",
      "  'sunset': 1650110719,\n",
      "  'temp': {'day': 27,\n",
      "           'eve': 24.37,\n",
      "           'max': 28.42,\n",
      "           'min': 24.37,\n",
      "           'morn': 26.46,\n",
      "           'night': 25.25},\n",
      "  'uvi': 8,\n",
      "  'weather_description': 'snow',\n",
      "  'weather_icon': 'https://openweathermap.org/img/wn/13d@2x.png',\n",
      "  'wind_deg': 162,\n",
      "  'wind_gust': 4.45,\n",
      "  'wind_speed': 3.51},\n",
      " {'clouds': 100,\n",
      "  'dew_point': 35.31,\n",
      "  'dt_formatted': '17-04-2022',\n",
      "  'humidity': 98,\n",
      "  'moon_phase': 0.5,\n",
      "  'moonrise': 1650199680,\n",
      "  'moonset': 1650151740,\n",
      "  'pop': 1,\n",
      "  'pressure': 1015,\n",
      "  'snow': 13.56,\n",
      "  'sunrise': 1650150604,\n",
      "  'sunset': 1650197156,\n",
      "  'temp': {'day': 29.77,\n",
      "           'eve': 27.77,\n",
      "           'max': 29.84,\n",
      "           'min': 24.98,\n",
      "           'morn': 25.57,\n",
      "           'night': 27.43},\n",
      "  'uvi': 8,\n",
      "  'weather_description': 'snow',\n",
      "  'weather_icon': 'https://openweathermap.org/img/wn/13d@2x.png',\n",
      "  'wind_deg': 261,\n",
      "  'wind_gust': 1.99,\n",
      "  'wind_speed': 1.25}]\n"
     ]
    }
   ],
   "source": [
    "res = json.loads(WeatherClient.get_seven_forecast_formatted())\n",
    "lat_long = res[\"lat_long\"]\n",
    "forecasts = res['forecasts']\n",
    "pp.pprint(forecasts)"
   ]
  },
  {
   "cell_type": "code",
   "execution_count": 40,
   "metadata": {
    "scrolled": false
   },
   "outputs": [
    {
     "data": {
      "text/plain": [
       "defaultdict(list,\n",
       "            {'date': ['10-04-2022',\n",
       "              '11-04-2022',\n",
       "              '12-04-2022',\n",
       "              '13-04-2022',\n",
       "              '14-04-2022',\n",
       "              '15-04-2022',\n",
       "              '16-04-2022',\n",
       "              '17-04-2022'],\n",
       "             'wind_speed': [7.34, 4.32, 6.15, 8.7, 3.83, 4.74, 3.51, 1.25],\n",
       "             'rain': [5.22, 3.17, 1.01, 3.39, 10.32, 12.65, 0, 0],\n",
       "             'humidity': [55, 76, 39, 50, 73, 92, 99, 98],\n",
       "             'temp_day': [42.93, 36.9, 48.6, 46.74, 40.77, 33.1, 27, 29.77],\n",
       "             'temp_min': [29.25,\n",
       "              28.62,\n",
       "              23.47,\n",
       "              32.07,\n",
       "              32.09,\n",
       "              29.98,\n",
       "              24.37,\n",
       "              24.98],\n",
       "             'temp_max': [43.25,\n",
       "              43.61,\n",
       "              50.45,\n",
       "              46.74,\n",
       "              40.77,\n",
       "              34.95,\n",
       "              28.42,\n",
       "              29.84]})"
      ]
     },
     "execution_count": 40,
     "metadata": {},
     "output_type": "execute_result"
    }
   ],
   "source": [
    "# get data for humidity, day temp, min temp, max temp, wind_speed, rain\n",
    "from collections import defaultdict\n",
    "lat_long_forecast_clean = defaultdict(list)\n",
    "# lat_long_forecast_clean = dict()\n",
    "for i in range (len(forecasts)):\n",
    "    #pp.pprint(forecasts[i])\n",
    "    lat_long_forecast_clean[\"date\"].append(forecasts[i]['dt_formatted'])\n",
    "    lat_long_forecast_clean['wind_speed'].append(forecasts[i][\"wind_speed\"])\n",
    "    try:\n",
    "        lat_long_forecast_clean['rain'].append(forecasts[i][\"rain\"])\n",
    "    except Exception as ex:\n",
    "         lat_long_forecast_clean['rain'].append(0)\n",
    "    lat_long_forecast_clean['humidity'].append(forecasts[i][\"humidity\"])\n",
    "    lat_long_forecast_clean['temp_day'].append(forecasts[i]['temp'][\"day\"])\n",
    "    lat_long_forecast_clean['temp_min'].append(forecasts[i]['temp'][\"min\"])\n",
    "    lat_long_forecast_clean['temp_max'].append(forecasts[i]['temp'][\"max\"])\n",
    "lat_long_forecast_clean"
   ]
  },
  {
   "cell_type": "markdown",
   "metadata": {},
   "source": [
    "### Imperial units have been used for all weather data"
   ]
  },
  {
   "cell_type": "code",
   "execution_count": 41,
   "metadata": {
    "scrolled": false
   },
   "outputs": [
    {
     "data": {
      "application/vnd.plotly.v1+json": {
       "config": {
        "plotlyServerURL": "https://plot.ly"
       },
       "data": [
        {
         "alignmentgroup": "True",
         "hovertemplate": "variable=temp_day<br>date=%{x}<br>value=%{y}<extra></extra>",
         "legendgroup": "temp_day",
         "marker": {
          "color": "#636efa"
         },
         "name": "temp_day",
         "offsetgroup": "temp_day",
         "orientation": "v",
         "showlegend": true,
         "textposition": "auto",
         "type": "bar",
         "x": [
          "10-04-2022",
          "11-04-2022",
          "12-04-2022",
          "13-04-2022",
          "14-04-2022",
          "15-04-2022",
          "16-04-2022",
          "17-04-2022"
         ],
         "xaxis": "x",
         "y": [
          42.93,
          36.9,
          48.6,
          46.74,
          40.77,
          33.1,
          27,
          29.77
         ],
         "yaxis": "y"
        },
        {
         "alignmentgroup": "True",
         "hovertemplate": "variable=temp_max<br>date=%{x}<br>value=%{y}<extra></extra>",
         "legendgroup": "temp_max",
         "marker": {
          "color": "#EF553B"
         },
         "name": "temp_max",
         "offsetgroup": "temp_max",
         "orientation": "v",
         "showlegend": true,
         "textposition": "auto",
         "type": "bar",
         "x": [
          "10-04-2022",
          "11-04-2022",
          "12-04-2022",
          "13-04-2022",
          "14-04-2022",
          "15-04-2022",
          "16-04-2022",
          "17-04-2022"
         ],
         "xaxis": "x",
         "y": [
          43.25,
          43.61,
          50.45,
          46.74,
          40.77,
          34.95,
          28.42,
          29.84
         ],
         "yaxis": "y"
        },
        {
         "alignmentgroup": "True",
         "hovertemplate": "variable=temp_min<br>date=%{x}<br>value=%{y}<extra></extra>",
         "legendgroup": "temp_min",
         "marker": {
          "color": "#00cc96"
         },
         "name": "temp_min",
         "offsetgroup": "temp_min",
         "orientation": "v",
         "showlegend": true,
         "textposition": "auto",
         "type": "bar",
         "x": [
          "10-04-2022",
          "11-04-2022",
          "12-04-2022",
          "13-04-2022",
          "14-04-2022",
          "15-04-2022",
          "16-04-2022",
          "17-04-2022"
         ],
         "xaxis": "x",
         "y": [
          29.25,
          28.62,
          23.47,
          32.07,
          32.09,
          29.98,
          24.37,
          24.98
         ],
         "yaxis": "y"
        },
        {
         "alignmentgroup": "True",
         "hovertemplate": "variable=humidity<br>date=%{x}<br>value=%{y}<extra></extra>",
         "legendgroup": "humidity",
         "marker": {
          "color": "#ab63fa"
         },
         "name": "humidity",
         "offsetgroup": "humidity",
         "orientation": "v",
         "showlegend": true,
         "textposition": "auto",
         "type": "bar",
         "x": [
          "10-04-2022",
          "11-04-2022",
          "12-04-2022",
          "13-04-2022",
          "14-04-2022",
          "15-04-2022",
          "16-04-2022",
          "17-04-2022"
         ],
         "xaxis": "x",
         "y": [
          55,
          76,
          39,
          50,
          73,
          92,
          99,
          98
         ],
         "yaxis": "y"
        },
        {
         "alignmentgroup": "True",
         "hovertemplate": "variable=wind_speed<br>date=%{x}<br>value=%{y}<extra></extra>",
         "legendgroup": "wind_speed",
         "marker": {
          "color": "#FFA15A"
         },
         "name": "wind_speed",
         "offsetgroup": "wind_speed",
         "orientation": "v",
         "showlegend": true,
         "textposition": "auto",
         "type": "bar",
         "x": [
          "10-04-2022",
          "11-04-2022",
          "12-04-2022",
          "13-04-2022",
          "14-04-2022",
          "15-04-2022",
          "16-04-2022",
          "17-04-2022"
         ],
         "xaxis": "x",
         "y": [
          7.34,
          4.32,
          6.15,
          8.7,
          3.83,
          4.74,
          3.51,
          1.25
         ],
         "yaxis": "y"
        },
        {
         "alignmentgroup": "True",
         "hovertemplate": "variable=rain<br>date=%{x}<br>value=%{y}<extra></extra>",
         "legendgroup": "rain",
         "marker": {
          "color": "#19d3f3"
         },
         "name": "rain",
         "offsetgroup": "rain",
         "orientation": "v",
         "showlegend": true,
         "textposition": "auto",
         "type": "bar",
         "x": [
          "10-04-2022",
          "11-04-2022",
          "12-04-2022",
          "13-04-2022",
          "14-04-2022",
          "15-04-2022",
          "16-04-2022",
          "17-04-2022"
         ],
         "xaxis": "x",
         "y": [
          5.22,
          3.17,
          1.01,
          3.39,
          10.32,
          12.65,
          0,
          0
         ],
         "yaxis": "y"
        }
       ],
       "layout": {
        "barmode": "group",
        "legend": {
         "title": {
          "text": "variable"
         },
         "tracegroupgap": 0
        },
        "template": {
         "data": {
          "bar": [
           {
            "error_x": {
             "color": "#2a3f5f"
            },
            "error_y": {
             "color": "#2a3f5f"
            },
            "marker": {
             "line": {
              "color": "#E5ECF6",
              "width": 0.5
             }
            },
            "type": "bar"
           }
          ],
          "barpolar": [
           {
            "marker": {
             "line": {
              "color": "#E5ECF6",
              "width": 0.5
             }
            },
            "type": "barpolar"
           }
          ],
          "carpet": [
           {
            "aaxis": {
             "endlinecolor": "#2a3f5f",
             "gridcolor": "white",
             "linecolor": "white",
             "minorgridcolor": "white",
             "startlinecolor": "#2a3f5f"
            },
            "baxis": {
             "endlinecolor": "#2a3f5f",
             "gridcolor": "white",
             "linecolor": "white",
             "minorgridcolor": "white",
             "startlinecolor": "#2a3f5f"
            },
            "type": "carpet"
           }
          ],
          "choropleth": [
           {
            "colorbar": {
             "outlinewidth": 0,
             "ticks": ""
            },
            "type": "choropleth"
           }
          ],
          "contour": [
           {
            "colorbar": {
             "outlinewidth": 0,
             "ticks": ""
            },
            "colorscale": [
             [
              0,
              "#0d0887"
             ],
             [
              0.1111111111111111,
              "#46039f"
             ],
             [
              0.2222222222222222,
              "#7201a8"
             ],
             [
              0.3333333333333333,
              "#9c179e"
             ],
             [
              0.4444444444444444,
              "#bd3786"
             ],
             [
              0.5555555555555556,
              "#d8576b"
             ],
             [
              0.6666666666666666,
              "#ed7953"
             ],
             [
              0.7777777777777778,
              "#fb9f3a"
             ],
             [
              0.8888888888888888,
              "#fdca26"
             ],
             [
              1,
              "#f0f921"
             ]
            ],
            "type": "contour"
           }
          ],
          "contourcarpet": [
           {
            "colorbar": {
             "outlinewidth": 0,
             "ticks": ""
            },
            "type": "contourcarpet"
           }
          ],
          "heatmap": [
           {
            "colorbar": {
             "outlinewidth": 0,
             "ticks": ""
            },
            "colorscale": [
             [
              0,
              "#0d0887"
             ],
             [
              0.1111111111111111,
              "#46039f"
             ],
             [
              0.2222222222222222,
              "#7201a8"
             ],
             [
              0.3333333333333333,
              "#9c179e"
             ],
             [
              0.4444444444444444,
              "#bd3786"
             ],
             [
              0.5555555555555556,
              "#d8576b"
             ],
             [
              0.6666666666666666,
              "#ed7953"
             ],
             [
              0.7777777777777778,
              "#fb9f3a"
             ],
             [
              0.8888888888888888,
              "#fdca26"
             ],
             [
              1,
              "#f0f921"
             ]
            ],
            "type": "heatmap"
           }
          ],
          "heatmapgl": [
           {
            "colorbar": {
             "outlinewidth": 0,
             "ticks": ""
            },
            "colorscale": [
             [
              0,
              "#0d0887"
             ],
             [
              0.1111111111111111,
              "#46039f"
             ],
             [
              0.2222222222222222,
              "#7201a8"
             ],
             [
              0.3333333333333333,
              "#9c179e"
             ],
             [
              0.4444444444444444,
              "#bd3786"
             ],
             [
              0.5555555555555556,
              "#d8576b"
             ],
             [
              0.6666666666666666,
              "#ed7953"
             ],
             [
              0.7777777777777778,
              "#fb9f3a"
             ],
             [
              0.8888888888888888,
              "#fdca26"
             ],
             [
              1,
              "#f0f921"
             ]
            ],
            "type": "heatmapgl"
           }
          ],
          "histogram": [
           {
            "marker": {
             "colorbar": {
              "outlinewidth": 0,
              "ticks": ""
             }
            },
            "type": "histogram"
           }
          ],
          "histogram2d": [
           {
            "colorbar": {
             "outlinewidth": 0,
             "ticks": ""
            },
            "colorscale": [
             [
              0,
              "#0d0887"
             ],
             [
              0.1111111111111111,
              "#46039f"
             ],
             [
              0.2222222222222222,
              "#7201a8"
             ],
             [
              0.3333333333333333,
              "#9c179e"
             ],
             [
              0.4444444444444444,
              "#bd3786"
             ],
             [
              0.5555555555555556,
              "#d8576b"
             ],
             [
              0.6666666666666666,
              "#ed7953"
             ],
             [
              0.7777777777777778,
              "#fb9f3a"
             ],
             [
              0.8888888888888888,
              "#fdca26"
             ],
             [
              1,
              "#f0f921"
             ]
            ],
            "type": "histogram2d"
           }
          ],
          "histogram2dcontour": [
           {
            "colorbar": {
             "outlinewidth": 0,
             "ticks": ""
            },
            "colorscale": [
             [
              0,
              "#0d0887"
             ],
             [
              0.1111111111111111,
              "#46039f"
             ],
             [
              0.2222222222222222,
              "#7201a8"
             ],
             [
              0.3333333333333333,
              "#9c179e"
             ],
             [
              0.4444444444444444,
              "#bd3786"
             ],
             [
              0.5555555555555556,
              "#d8576b"
             ],
             [
              0.6666666666666666,
              "#ed7953"
             ],
             [
              0.7777777777777778,
              "#fb9f3a"
             ],
             [
              0.8888888888888888,
              "#fdca26"
             ],
             [
              1,
              "#f0f921"
             ]
            ],
            "type": "histogram2dcontour"
           }
          ],
          "mesh3d": [
           {
            "colorbar": {
             "outlinewidth": 0,
             "ticks": ""
            },
            "type": "mesh3d"
           }
          ],
          "parcoords": [
           {
            "line": {
             "colorbar": {
              "outlinewidth": 0,
              "ticks": ""
             }
            },
            "type": "parcoords"
           }
          ],
          "pie": [
           {
            "automargin": true,
            "type": "pie"
           }
          ],
          "scatter": [
           {
            "marker": {
             "colorbar": {
              "outlinewidth": 0,
              "ticks": ""
             }
            },
            "type": "scatter"
           }
          ],
          "scatter3d": [
           {
            "line": {
             "colorbar": {
              "outlinewidth": 0,
              "ticks": ""
             }
            },
            "marker": {
             "colorbar": {
              "outlinewidth": 0,
              "ticks": ""
             }
            },
            "type": "scatter3d"
           }
          ],
          "scattercarpet": [
           {
            "marker": {
             "colorbar": {
              "outlinewidth": 0,
              "ticks": ""
             }
            },
            "type": "scattercarpet"
           }
          ],
          "scattergeo": [
           {
            "marker": {
             "colorbar": {
              "outlinewidth": 0,
              "ticks": ""
             }
            },
            "type": "scattergeo"
           }
          ],
          "scattergl": [
           {
            "marker": {
             "colorbar": {
              "outlinewidth": 0,
              "ticks": ""
             }
            },
            "type": "scattergl"
           }
          ],
          "scattermapbox": [
           {
            "marker": {
             "colorbar": {
              "outlinewidth": 0,
              "ticks": ""
             }
            },
            "type": "scattermapbox"
           }
          ],
          "scatterpolar": [
           {
            "marker": {
             "colorbar": {
              "outlinewidth": 0,
              "ticks": ""
             }
            },
            "type": "scatterpolar"
           }
          ],
          "scatterpolargl": [
           {
            "marker": {
             "colorbar": {
              "outlinewidth": 0,
              "ticks": ""
             }
            },
            "type": "scatterpolargl"
           }
          ],
          "scatterternary": [
           {
            "marker": {
             "colorbar": {
              "outlinewidth": 0,
              "ticks": ""
             }
            },
            "type": "scatterternary"
           }
          ],
          "surface": [
           {
            "colorbar": {
             "outlinewidth": 0,
             "ticks": ""
            },
            "colorscale": [
             [
              0,
              "#0d0887"
             ],
             [
              0.1111111111111111,
              "#46039f"
             ],
             [
              0.2222222222222222,
              "#7201a8"
             ],
             [
              0.3333333333333333,
              "#9c179e"
             ],
             [
              0.4444444444444444,
              "#bd3786"
             ],
             [
              0.5555555555555556,
              "#d8576b"
             ],
             [
              0.6666666666666666,
              "#ed7953"
             ],
             [
              0.7777777777777778,
              "#fb9f3a"
             ],
             [
              0.8888888888888888,
              "#fdca26"
             ],
             [
              1,
              "#f0f921"
             ]
            ],
            "type": "surface"
           }
          ],
          "table": [
           {
            "cells": {
             "fill": {
              "color": "#EBF0F8"
             },
             "line": {
              "color": "white"
             }
            },
            "header": {
             "fill": {
              "color": "#C8D4E3"
             },
             "line": {
              "color": "white"
             }
            },
            "type": "table"
           }
          ]
         },
         "layout": {
          "annotationdefaults": {
           "arrowcolor": "#2a3f5f",
           "arrowhead": 0,
           "arrowwidth": 1
          },
          "coloraxis": {
           "colorbar": {
            "outlinewidth": 0,
            "ticks": ""
           }
          },
          "colorscale": {
           "diverging": [
            [
             0,
             "#8e0152"
            ],
            [
             0.1,
             "#c51b7d"
            ],
            [
             0.2,
             "#de77ae"
            ],
            [
             0.3,
             "#f1b6da"
            ],
            [
             0.4,
             "#fde0ef"
            ],
            [
             0.5,
             "#f7f7f7"
            ],
            [
             0.6,
             "#e6f5d0"
            ],
            [
             0.7,
             "#b8e186"
            ],
            [
             0.8,
             "#7fbc41"
            ],
            [
             0.9,
             "#4d9221"
            ],
            [
             1,
             "#276419"
            ]
           ],
           "sequential": [
            [
             0,
             "#0d0887"
            ],
            [
             0.1111111111111111,
             "#46039f"
            ],
            [
             0.2222222222222222,
             "#7201a8"
            ],
            [
             0.3333333333333333,
             "#9c179e"
            ],
            [
             0.4444444444444444,
             "#bd3786"
            ],
            [
             0.5555555555555556,
             "#d8576b"
            ],
            [
             0.6666666666666666,
             "#ed7953"
            ],
            [
             0.7777777777777778,
             "#fb9f3a"
            ],
            [
             0.8888888888888888,
             "#fdca26"
            ],
            [
             1,
             "#f0f921"
            ]
           ],
           "sequentialminus": [
            [
             0,
             "#0d0887"
            ],
            [
             0.1111111111111111,
             "#46039f"
            ],
            [
             0.2222222222222222,
             "#7201a8"
            ],
            [
             0.3333333333333333,
             "#9c179e"
            ],
            [
             0.4444444444444444,
             "#bd3786"
            ],
            [
             0.5555555555555556,
             "#d8576b"
            ],
            [
             0.6666666666666666,
             "#ed7953"
            ],
            [
             0.7777777777777778,
             "#fb9f3a"
            ],
            [
             0.8888888888888888,
             "#fdca26"
            ],
            [
             1,
             "#f0f921"
            ]
           ]
          },
          "colorway": [
           "#636efa",
           "#EF553B",
           "#00cc96",
           "#ab63fa",
           "#FFA15A",
           "#19d3f3",
           "#FF6692",
           "#B6E880",
           "#FF97FF",
           "#FECB52"
          ],
          "font": {
           "color": "#2a3f5f"
          },
          "geo": {
           "bgcolor": "white",
           "lakecolor": "white",
           "landcolor": "#E5ECF6",
           "showlakes": true,
           "showland": true,
           "subunitcolor": "white"
          },
          "hoverlabel": {
           "align": "left"
          },
          "hovermode": "closest",
          "mapbox": {
           "style": "light"
          },
          "paper_bgcolor": "white",
          "plot_bgcolor": "#E5ECF6",
          "polar": {
           "angularaxis": {
            "gridcolor": "white",
            "linecolor": "white",
            "ticks": ""
           },
           "bgcolor": "#E5ECF6",
           "radialaxis": {
            "gridcolor": "white",
            "linecolor": "white",
            "ticks": ""
           }
          },
          "scene": {
           "xaxis": {
            "backgroundcolor": "#E5ECF6",
            "gridcolor": "white",
            "gridwidth": 2,
            "linecolor": "white",
            "showbackground": true,
            "ticks": "",
            "zerolinecolor": "white"
           },
           "yaxis": {
            "backgroundcolor": "#E5ECF6",
            "gridcolor": "white",
            "gridwidth": 2,
            "linecolor": "white",
            "showbackground": true,
            "ticks": "",
            "zerolinecolor": "white"
           },
           "zaxis": {
            "backgroundcolor": "#E5ECF6",
            "gridcolor": "white",
            "gridwidth": 2,
            "linecolor": "white",
            "showbackground": true,
            "ticks": "",
            "zerolinecolor": "white"
           }
          },
          "shapedefaults": {
           "line": {
            "color": "#2a3f5f"
           }
          },
          "ternary": {
           "aaxis": {
            "gridcolor": "white",
            "linecolor": "white",
            "ticks": ""
           },
           "baxis": {
            "gridcolor": "white",
            "linecolor": "white",
            "ticks": ""
           },
           "bgcolor": "#E5ECF6",
           "caxis": {
            "gridcolor": "white",
            "linecolor": "white",
            "ticks": ""
           }
          },
          "title": {
           "x": 0.05
          },
          "xaxis": {
           "automargin": true,
           "gridcolor": "white",
           "linecolor": "white",
           "ticks": "",
           "title": {
            "standoff": 15
           },
           "zerolinecolor": "white",
           "zerolinewidth": 2
          },
          "yaxis": {
           "automargin": true,
           "gridcolor": "white",
           "linecolor": "white",
           "ticks": "",
           "title": {
            "standoff": 15
           },
           "zerolinecolor": "white",
           "zerolinewidth": 2
          }
         }
        },
        "title": {
         "text": "Weather forecasts for next 7 days"
        },
        "xaxis": {
         "anchor": "y",
         "domain": [
          0,
          1
         ],
         "title": {
          "text": "date"
         }
        },
        "yaxis": {
         "anchor": "x",
         "domain": [
          0,
          1
         ],
         "title": {
          "text": "value"
         }
        }
       }
      },
      "text/html": [
       "<div>\n",
       "        \n",
       "        \n",
       "            <div id=\"f2677e6a-da66-4aa8-a9ba-57698fffdc74\" class=\"plotly-graph-div\" style=\"height:525px; width:100%;\"></div>\n",
       "            <script type=\"text/javascript\">\n",
       "                require([\"plotly\"], function(Plotly) {\n",
       "                    window.PLOTLYENV=window.PLOTLYENV || {};\n",
       "                    \n",
       "                if (document.getElementById(\"f2677e6a-da66-4aa8-a9ba-57698fffdc74\")) {\n",
       "                    Plotly.newPlot(\n",
       "                        'f2677e6a-da66-4aa8-a9ba-57698fffdc74',\n",
       "                        [{\"alignmentgroup\": \"True\", \"hovertemplate\": \"variable=temp_day<br>date=%{x}<br>value=%{y}<extra></extra>\", \"legendgroup\": \"temp_day\", \"marker\": {\"color\": \"#636efa\"}, \"name\": \"temp_day\", \"offsetgroup\": \"temp_day\", \"orientation\": \"v\", \"showlegend\": true, \"textposition\": \"auto\", \"type\": \"bar\", \"x\": [\"10-04-2022\", \"11-04-2022\", \"12-04-2022\", \"13-04-2022\", \"14-04-2022\", \"15-04-2022\", \"16-04-2022\", \"17-04-2022\"], \"xaxis\": \"x\", \"y\": [42.93, 36.9, 48.6, 46.74, 40.77, 33.1, 27.0, 29.77], \"yaxis\": \"y\"}, {\"alignmentgroup\": \"True\", \"hovertemplate\": \"variable=temp_max<br>date=%{x}<br>value=%{y}<extra></extra>\", \"legendgroup\": \"temp_max\", \"marker\": {\"color\": \"#EF553B\"}, \"name\": \"temp_max\", \"offsetgroup\": \"temp_max\", \"orientation\": \"v\", \"showlegend\": true, \"textposition\": \"auto\", \"type\": \"bar\", \"x\": [\"10-04-2022\", \"11-04-2022\", \"12-04-2022\", \"13-04-2022\", \"14-04-2022\", \"15-04-2022\", \"16-04-2022\", \"17-04-2022\"], \"xaxis\": \"x\", \"y\": [43.25, 43.61, 50.45, 46.74, 40.77, 34.95, 28.42, 29.84], \"yaxis\": \"y\"}, {\"alignmentgroup\": \"True\", \"hovertemplate\": \"variable=temp_min<br>date=%{x}<br>value=%{y}<extra></extra>\", \"legendgroup\": \"temp_min\", \"marker\": {\"color\": \"#00cc96\"}, \"name\": \"temp_min\", \"offsetgroup\": \"temp_min\", \"orientation\": \"v\", \"showlegend\": true, \"textposition\": \"auto\", \"type\": \"bar\", \"x\": [\"10-04-2022\", \"11-04-2022\", \"12-04-2022\", \"13-04-2022\", \"14-04-2022\", \"15-04-2022\", \"16-04-2022\", \"17-04-2022\"], \"xaxis\": \"x\", \"y\": [29.25, 28.62, 23.47, 32.07, 32.09, 29.98, 24.37, 24.98], \"yaxis\": \"y\"}, {\"alignmentgroup\": \"True\", \"hovertemplate\": \"variable=humidity<br>date=%{x}<br>value=%{y}<extra></extra>\", \"legendgroup\": \"humidity\", \"marker\": {\"color\": \"#ab63fa\"}, \"name\": \"humidity\", \"offsetgroup\": \"humidity\", \"orientation\": \"v\", \"showlegend\": true, \"textposition\": \"auto\", \"type\": \"bar\", \"x\": [\"10-04-2022\", \"11-04-2022\", \"12-04-2022\", \"13-04-2022\", \"14-04-2022\", \"15-04-2022\", \"16-04-2022\", \"17-04-2022\"], \"xaxis\": \"x\", \"y\": [55.0, 76.0, 39.0, 50.0, 73.0, 92.0, 99.0, 98.0], \"yaxis\": \"y\"}, {\"alignmentgroup\": \"True\", \"hovertemplate\": \"variable=wind_speed<br>date=%{x}<br>value=%{y}<extra></extra>\", \"legendgroup\": \"wind_speed\", \"marker\": {\"color\": \"#FFA15A\"}, \"name\": \"wind_speed\", \"offsetgroup\": \"wind_speed\", \"orientation\": \"v\", \"showlegend\": true, \"textposition\": \"auto\", \"type\": \"bar\", \"x\": [\"10-04-2022\", \"11-04-2022\", \"12-04-2022\", \"13-04-2022\", \"14-04-2022\", \"15-04-2022\", \"16-04-2022\", \"17-04-2022\"], \"xaxis\": \"x\", \"y\": [7.34, 4.32, 6.15, 8.7, 3.83, 4.74, 3.51, 1.25], \"yaxis\": \"y\"}, {\"alignmentgroup\": \"True\", \"hovertemplate\": \"variable=rain<br>date=%{x}<br>value=%{y}<extra></extra>\", \"legendgroup\": \"rain\", \"marker\": {\"color\": \"#19d3f3\"}, \"name\": \"rain\", \"offsetgroup\": \"rain\", \"orientation\": \"v\", \"showlegend\": true, \"textposition\": \"auto\", \"type\": \"bar\", \"x\": [\"10-04-2022\", \"11-04-2022\", \"12-04-2022\", \"13-04-2022\", \"14-04-2022\", \"15-04-2022\", \"16-04-2022\", \"17-04-2022\"], \"xaxis\": \"x\", \"y\": [5.22, 3.17, 1.01, 3.39, 10.32, 12.65, 0.0, 0.0], \"yaxis\": \"y\"}],\n",
       "                        {\"barmode\": \"group\", \"legend\": {\"title\": {\"text\": \"variable\"}, \"tracegroupgap\": 0}, \"template\": {\"data\": {\"bar\": [{\"error_x\": {\"color\": \"#2a3f5f\"}, \"error_y\": {\"color\": \"#2a3f5f\"}, \"marker\": {\"line\": {\"color\": \"#E5ECF6\", \"width\": 0.5}}, \"type\": \"bar\"}], \"barpolar\": [{\"marker\": {\"line\": {\"color\": \"#E5ECF6\", \"width\": 0.5}}, \"type\": \"barpolar\"}], \"carpet\": [{\"aaxis\": {\"endlinecolor\": \"#2a3f5f\", \"gridcolor\": \"white\", \"linecolor\": \"white\", \"minorgridcolor\": \"white\", \"startlinecolor\": \"#2a3f5f\"}, \"baxis\": {\"endlinecolor\": \"#2a3f5f\", \"gridcolor\": \"white\", \"linecolor\": \"white\", \"minorgridcolor\": \"white\", \"startlinecolor\": \"#2a3f5f\"}, \"type\": \"carpet\"}], \"choropleth\": [{\"colorbar\": {\"outlinewidth\": 0, \"ticks\": \"\"}, \"type\": \"choropleth\"}], \"contour\": [{\"colorbar\": {\"outlinewidth\": 0, \"ticks\": \"\"}, \"colorscale\": [[0.0, \"#0d0887\"], [0.1111111111111111, \"#46039f\"], [0.2222222222222222, \"#7201a8\"], [0.3333333333333333, \"#9c179e\"], [0.4444444444444444, \"#bd3786\"], [0.5555555555555556, \"#d8576b\"], [0.6666666666666666, \"#ed7953\"], [0.7777777777777778, \"#fb9f3a\"], [0.8888888888888888, \"#fdca26\"], [1.0, \"#f0f921\"]], \"type\": \"contour\"}], \"contourcarpet\": [{\"colorbar\": {\"outlinewidth\": 0, \"ticks\": \"\"}, \"type\": \"contourcarpet\"}], \"heatmap\": [{\"colorbar\": {\"outlinewidth\": 0, \"ticks\": \"\"}, \"colorscale\": [[0.0, \"#0d0887\"], [0.1111111111111111, \"#46039f\"], [0.2222222222222222, \"#7201a8\"], [0.3333333333333333, \"#9c179e\"], [0.4444444444444444, \"#bd3786\"], [0.5555555555555556, \"#d8576b\"], [0.6666666666666666, \"#ed7953\"], [0.7777777777777778, \"#fb9f3a\"], [0.8888888888888888, \"#fdca26\"], [1.0, \"#f0f921\"]], \"type\": \"heatmap\"}], \"heatmapgl\": [{\"colorbar\": {\"outlinewidth\": 0, \"ticks\": \"\"}, \"colorscale\": [[0.0, \"#0d0887\"], [0.1111111111111111, \"#46039f\"], [0.2222222222222222, \"#7201a8\"], [0.3333333333333333, \"#9c179e\"], [0.4444444444444444, \"#bd3786\"], [0.5555555555555556, \"#d8576b\"], [0.6666666666666666, \"#ed7953\"], [0.7777777777777778, \"#fb9f3a\"], [0.8888888888888888, \"#fdca26\"], [1.0, \"#f0f921\"]], \"type\": \"heatmapgl\"}], \"histogram\": [{\"marker\": {\"colorbar\": {\"outlinewidth\": 0, \"ticks\": \"\"}}, \"type\": \"histogram\"}], \"histogram2d\": [{\"colorbar\": {\"outlinewidth\": 0, \"ticks\": \"\"}, \"colorscale\": [[0.0, \"#0d0887\"], [0.1111111111111111, \"#46039f\"], [0.2222222222222222, \"#7201a8\"], [0.3333333333333333, \"#9c179e\"], [0.4444444444444444, \"#bd3786\"], [0.5555555555555556, \"#d8576b\"], [0.6666666666666666, \"#ed7953\"], [0.7777777777777778, \"#fb9f3a\"], [0.8888888888888888, \"#fdca26\"], [1.0, \"#f0f921\"]], \"type\": \"histogram2d\"}], \"histogram2dcontour\": [{\"colorbar\": {\"outlinewidth\": 0, \"ticks\": \"\"}, \"colorscale\": [[0.0, \"#0d0887\"], [0.1111111111111111, \"#46039f\"], [0.2222222222222222, \"#7201a8\"], [0.3333333333333333, \"#9c179e\"], [0.4444444444444444, \"#bd3786\"], [0.5555555555555556, \"#d8576b\"], [0.6666666666666666, \"#ed7953\"], [0.7777777777777778, \"#fb9f3a\"], [0.8888888888888888, \"#fdca26\"], [1.0, \"#f0f921\"]], \"type\": \"histogram2dcontour\"}], \"mesh3d\": [{\"colorbar\": {\"outlinewidth\": 0, \"ticks\": \"\"}, \"type\": \"mesh3d\"}], \"parcoords\": [{\"line\": {\"colorbar\": {\"outlinewidth\": 0, \"ticks\": \"\"}}, \"type\": \"parcoords\"}], \"pie\": [{\"automargin\": true, \"type\": \"pie\"}], \"scatter\": [{\"marker\": {\"colorbar\": {\"outlinewidth\": 0, \"ticks\": \"\"}}, \"type\": \"scatter\"}], \"scatter3d\": [{\"line\": {\"colorbar\": {\"outlinewidth\": 0, \"ticks\": \"\"}}, \"marker\": {\"colorbar\": {\"outlinewidth\": 0, \"ticks\": \"\"}}, \"type\": \"scatter3d\"}], \"scattercarpet\": [{\"marker\": {\"colorbar\": {\"outlinewidth\": 0, \"ticks\": \"\"}}, \"type\": \"scattercarpet\"}], \"scattergeo\": [{\"marker\": {\"colorbar\": {\"outlinewidth\": 0, \"ticks\": \"\"}}, \"type\": \"scattergeo\"}], \"scattergl\": [{\"marker\": {\"colorbar\": {\"outlinewidth\": 0, \"ticks\": \"\"}}, \"type\": \"scattergl\"}], \"scattermapbox\": [{\"marker\": {\"colorbar\": {\"outlinewidth\": 0, \"ticks\": \"\"}}, \"type\": \"scattermapbox\"}], \"scatterpolar\": [{\"marker\": {\"colorbar\": {\"outlinewidth\": 0, \"ticks\": \"\"}}, \"type\": \"scatterpolar\"}], \"scatterpolargl\": [{\"marker\": {\"colorbar\": {\"outlinewidth\": 0, \"ticks\": \"\"}}, \"type\": \"scatterpolargl\"}], \"scatterternary\": [{\"marker\": {\"colorbar\": {\"outlinewidth\": 0, \"ticks\": \"\"}}, \"type\": \"scatterternary\"}], \"surface\": [{\"colorbar\": {\"outlinewidth\": 0, \"ticks\": \"\"}, \"colorscale\": [[0.0, \"#0d0887\"], [0.1111111111111111, \"#46039f\"], [0.2222222222222222, \"#7201a8\"], [0.3333333333333333, \"#9c179e\"], [0.4444444444444444, \"#bd3786\"], [0.5555555555555556, \"#d8576b\"], [0.6666666666666666, \"#ed7953\"], [0.7777777777777778, \"#fb9f3a\"], [0.8888888888888888, \"#fdca26\"], [1.0, \"#f0f921\"]], \"type\": \"surface\"}], \"table\": [{\"cells\": {\"fill\": {\"color\": \"#EBF0F8\"}, \"line\": {\"color\": \"white\"}}, \"header\": {\"fill\": {\"color\": \"#C8D4E3\"}, \"line\": {\"color\": \"white\"}}, \"type\": \"table\"}]}, \"layout\": {\"annotationdefaults\": {\"arrowcolor\": \"#2a3f5f\", \"arrowhead\": 0, \"arrowwidth\": 1}, \"coloraxis\": {\"colorbar\": {\"outlinewidth\": 0, \"ticks\": \"\"}}, \"colorscale\": {\"diverging\": [[0, \"#8e0152\"], [0.1, \"#c51b7d\"], [0.2, \"#de77ae\"], [0.3, \"#f1b6da\"], [0.4, \"#fde0ef\"], [0.5, \"#f7f7f7\"], [0.6, \"#e6f5d0\"], [0.7, \"#b8e186\"], [0.8, \"#7fbc41\"], [0.9, \"#4d9221\"], [1, \"#276419\"]], \"sequential\": [[0.0, \"#0d0887\"], [0.1111111111111111, \"#46039f\"], [0.2222222222222222, \"#7201a8\"], [0.3333333333333333, \"#9c179e\"], [0.4444444444444444, \"#bd3786\"], [0.5555555555555556, \"#d8576b\"], [0.6666666666666666, \"#ed7953\"], [0.7777777777777778, \"#fb9f3a\"], [0.8888888888888888, \"#fdca26\"], [1.0, \"#f0f921\"]], \"sequentialminus\": [[0.0, \"#0d0887\"], [0.1111111111111111, \"#46039f\"], [0.2222222222222222, \"#7201a8\"], [0.3333333333333333, \"#9c179e\"], [0.4444444444444444, \"#bd3786\"], [0.5555555555555556, \"#d8576b\"], [0.6666666666666666, \"#ed7953\"], [0.7777777777777778, \"#fb9f3a\"], [0.8888888888888888, \"#fdca26\"], [1.0, \"#f0f921\"]]}, \"colorway\": [\"#636efa\", \"#EF553B\", \"#00cc96\", \"#ab63fa\", \"#FFA15A\", \"#19d3f3\", \"#FF6692\", \"#B6E880\", \"#FF97FF\", \"#FECB52\"], \"font\": {\"color\": \"#2a3f5f\"}, \"geo\": {\"bgcolor\": \"white\", \"lakecolor\": \"white\", \"landcolor\": \"#E5ECF6\", \"showlakes\": true, \"showland\": true, \"subunitcolor\": \"white\"}, \"hoverlabel\": {\"align\": \"left\"}, \"hovermode\": \"closest\", \"mapbox\": {\"style\": \"light\"}, \"paper_bgcolor\": \"white\", \"plot_bgcolor\": \"#E5ECF6\", \"polar\": {\"angularaxis\": {\"gridcolor\": \"white\", \"linecolor\": \"white\", \"ticks\": \"\"}, \"bgcolor\": \"#E5ECF6\", \"radialaxis\": {\"gridcolor\": \"white\", \"linecolor\": \"white\", \"ticks\": \"\"}}, \"scene\": {\"xaxis\": {\"backgroundcolor\": \"#E5ECF6\", \"gridcolor\": \"white\", \"gridwidth\": 2, \"linecolor\": \"white\", \"showbackground\": true, \"ticks\": \"\", \"zerolinecolor\": \"white\"}, \"yaxis\": {\"backgroundcolor\": \"#E5ECF6\", \"gridcolor\": \"white\", \"gridwidth\": 2, \"linecolor\": \"white\", \"showbackground\": true, \"ticks\": \"\", \"zerolinecolor\": \"white\"}, \"zaxis\": {\"backgroundcolor\": \"#E5ECF6\", \"gridcolor\": \"white\", \"gridwidth\": 2, \"linecolor\": \"white\", \"showbackground\": true, \"ticks\": \"\", \"zerolinecolor\": \"white\"}}, \"shapedefaults\": {\"line\": {\"color\": \"#2a3f5f\"}}, \"ternary\": {\"aaxis\": {\"gridcolor\": \"white\", \"linecolor\": \"white\", \"ticks\": \"\"}, \"baxis\": {\"gridcolor\": \"white\", \"linecolor\": \"white\", \"ticks\": \"\"}, \"bgcolor\": \"#E5ECF6\", \"caxis\": {\"gridcolor\": \"white\", \"linecolor\": \"white\", \"ticks\": \"\"}}, \"title\": {\"x\": 0.05}, \"xaxis\": {\"automargin\": true, \"gridcolor\": \"white\", \"linecolor\": \"white\", \"ticks\": \"\", \"title\": {\"standoff\": 15}, \"zerolinecolor\": \"white\", \"zerolinewidth\": 2}, \"yaxis\": {\"automargin\": true, \"gridcolor\": \"white\", \"linecolor\": \"white\", \"ticks\": \"\", \"title\": {\"standoff\": 15}, \"zerolinecolor\": \"white\", \"zerolinewidth\": 2}}}, \"title\": {\"text\": \"Weather forecasts for next 7 days\"}, \"xaxis\": {\"anchor\": \"y\", \"domain\": [0.0, 1.0], \"title\": {\"text\": \"date\"}}, \"yaxis\": {\"anchor\": \"x\", \"domain\": [0.0, 1.0], \"title\": {\"text\": \"value\"}}},\n",
       "                        {\"responsive\": true}\n",
       "                    ).then(function(){\n",
       "                            \n",
       "var gd = document.getElementById('f2677e6a-da66-4aa8-a9ba-57698fffdc74');\n",
       "var x = new MutationObserver(function (mutations, observer) {{\n",
       "        var display = window.getComputedStyle(gd).display;\n",
       "        if (!display || display === 'none') {{\n",
       "            console.log([gd, 'removed!']);\n",
       "            Plotly.purge(gd);\n",
       "            observer.disconnect();\n",
       "        }}\n",
       "}});\n",
       "\n",
       "// Listen for the removal of the full notebook cells\n",
       "var notebookContainer = gd.closest('#notebook-container');\n",
       "if (notebookContainer) {{\n",
       "    x.observe(notebookContainer, {childList: true});\n",
       "}}\n",
       "\n",
       "// Listen for the clearing of the current output cell\n",
       "var outputEl = gd.closest('.output');\n",
       "if (outputEl) {{\n",
       "    x.observe(outputEl, {childList: true});\n",
       "}}\n",
       "\n",
       "                        })\n",
       "                };\n",
       "                });\n",
       "            </script>\n",
       "        </div>"
      ]
     },
     "metadata": {},
     "output_type": "display_data"
    }
   ],
   "source": [
    "fig = px.bar(lat_long_forecast_clean, x='date', y=['temp_day',\"temp_max\",\"temp_min\",\"humidity\",\"wind_speed\",'rain']\n",
    "             , barmode='group', title=\"Weather forecasts for next 7 days\")\n",
    "fig.show()"
   ]
  },
  {
   "cell_type": "markdown",
   "metadata": {},
   "source": [
    "## Rain vs Temperature"
   ]
  },
  {
   "cell_type": "code",
   "execution_count": 42,
   "metadata": {},
   "outputs": [
    {
     "data": {
      "image/png": "[encoded data removed]",
      "text/plain": [
       "<Figure size 432x288 with 1 Axes>"
      ]
     },
     "metadata": {
      "needs_background": "light"
     },
     "output_type": "display_data"
    }
   ],
   "source": [
    "import matplotlib.pyplot as plt\n",
    "plt.scatter(lat_long_forecast_clean[\"rain\"], lat_long_forecast_clean[\"temp_day\"], marker=\"o\", s=15, color='blue')\n",
    "\n",
    "#formating\n",
    "plt.title(\"Rain vs Temperature\")\n",
    "plt.ylabel(\"Temperature(F)\")\n",
    "plt.xlabel(\"Rain\")\n",
    "plt.grid(True)\n",
    "\n",
    "\n",
    "\n",
    "#show plot\n",
    "plt.show()"
   ]
  },
  {
   "cell_type": "markdown",
   "metadata": {},
   "source": [
    "## Rain vs Humidity"
   ]
  },
  {
   "cell_type": "code",
   "execution_count": 43,
   "metadata": {},
   "outputs": [
    {
     "data": {
      "image/png": "[encoded data removed]",
      "text/plain": [
       "<Figure size 432x288 with 1 Axes>"
      ]
     },
     "metadata": {
      "needs_background": "light"
     },
     "output_type": "display_data"
    }
   ],
   "source": [
    "\n",
    "plt.scatter(lat_long_forecast_clean[\"rain\"], lat_long_forecast_clean[\"humidity\"], marker=\"o\", s=15, color='blue')\n",
    "\n",
    "#formating\n",
    "plt.title(\"Rain vs Humidity\")\n",
    "plt.ylabel(\"Humidity\")\n",
    "plt.xlabel(\"Rain\")\n",
    "plt.grid(True)\n",
    "\n",
    "\n",
    "\n",
    "#show plot\n",
    "plt.show()"
   ]
  },
  {
   "cell_type": "markdown",
   "metadata": {},
   "source": [
    "## Max Temperature vs Min Temperature"
   ]
  },
  {
   "cell_type": "code",
   "execution_count": 44,
   "metadata": {},
   "outputs": [
    {
     "data": {
      "image/png": "[encoded data removed]",
      "text/plain": [
       "<Figure size 432x288 with 1 Axes>"
      ]
     },
     "metadata": {
      "needs_background": "light"
     },
     "output_type": "display_data"
    }
   ],
   "source": [
    "import matplotlib.pyplot as plt\n",
    "plt.scatter(lat_long_forecast_clean[\"temp_max\"], lat_long_forecast_clean[\"temp_min\"], marker=\"o\", s=15, color='blue')\n",
    "\n",
    "#formating\n",
    "plt.title(\"Max Temperature vs Min Temperature\")\n",
    "plt.ylabel(\"Min Temperature\")\n",
    "plt.xlabel(\"Max Temperature\")\n",
    "plt.grid(True)\n",
    "\n",
    "\n",
    "\n",
    "#show plot\n",
    "plt.show()"
   ]
  },
  {
   "cell_type": "code",
   "execution_count": null,
   "metadata": {},
   "outputs": [],
   "source": []
  }
 ],
 "metadata": {
  "kernelspec": {
   "display_name": "Python 3",
   "language": "python",
   "name": "python3"
  },
  "language_info": {
   "codemirror_mode": {
    "name": "ipython",
    "version": 3
   },
   "file_extension": ".py",
   "mimetype": "text/x-python",
   "name": "python",
   "nbconvert_exporter": "python",
   "pygments_lexer": "ipython3",
   "version": "3.7.4"
  }
 },
 "nbformat": 4,
 "nbformat_minor": 2
}
